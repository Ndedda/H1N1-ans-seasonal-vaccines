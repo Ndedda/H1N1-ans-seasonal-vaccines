{
 "cells": [
  {
   "cell_type": "markdown",
   "id": "4b7c9601",
   "metadata": {},
   "source": [
    "### NDEDDA EMMANUEL\n",
    "\n",
    "### H1N1 AND SEASONAL FLU VACCINES DATA"
   ]
  },
  {
   "cell_type": "markdown",
   "id": "7842c62c",
   "metadata": {},
   "source": [
    "### OVERVIEW\n",
    "Vaccines provide immunizationfor individuals and enough immunization in a community can further reduce the spread of diseases through 'herd immunity.' In ths project we revisit the public response to previous respiratory diseases i.e the H1N1 influenza virus which had over 150,000 deaths in 2009-2010.\n",
    "\n",
    "This phone survey asked respondents whether they had received the H1N1 and seasonal flu vaccines, in conjunction with questions about themselves. These additional questions covered their social, economic, and demographic background, opinions on risks of illness and vaccine effectiveness, and behaviors towards mitigating transmission. \n",
    "\n",
    "A better understanding of how these characteristics are associated with personal vaccination patterns can provide guidance for future public health efforts through predictive classification modellinng"
   ]
  },
  {
   "cell_type": "markdown",
   "id": "6a7ce1dd",
   "metadata": {},
   "source": [
    "### PROBLEM STATEMENT\n",
    "The government through the National Health Insuarance Fund, prepared a survey to predict wheather people got the H1N1 and seasonal vaccines using information they shared about their backgrounds, opinions and health behaviours. \n",
    "\n",
    "We use the data from National Centre of Health Statistics in th United States\n",
    "\n",
    "The National Health Insuarance Fund would like to usthis information incase of another outbreak to know how to sensitize people more on vaccine practices to be able to enhance the herd immunity and ensuring people live a healthy lifestyle."
   ]
  },
  {
   "cell_type": "markdown",
   "id": "0a275b0b",
   "metadata": {},
   "source": [
    "### LOADING THE DATA"
   ]
  },
  {
   "cell_type": "code",
   "execution_count": 1,
   "id": "d461f1f1",
   "metadata": {},
   "outputs": [],
   "source": [
    "# Importing necessary libraries\n",
    "import pandas as pd\n",
    "import numpy as np\n",
    "import matplotlib.pyplot as plt\n",
    "import seaborn as sns\n",
    "from sklearn.linear_model import LogisticRegression\n",
    "from sklearn.metrics import accuracy_score, confusion_matrix, classification_report, ConfusionMatrixDisplay, roc_auc_score, roc_curve, f1_score\n",
    "from sklearn.impute import SimpleImputer\n",
    "from sklearn.preprocessing import OneHotEncoder, StandardScaler\n",
    "from sklearn.pipeline import Pipeline\n",
    "from sklearn.compose import ColumnTransformer\n",
    "from sklearn.model_selection import train_test_split, cross_val_score, GridSearchCV\n",
    "from sklearn.tree import DecisionTreeClassifier\n",
    "from imblearn.pipeline import Pipeline as ImbPipeline\n",
    "from imblearn.over_sampling import SMOTE"
   ]
  },
  {
   "cell_type": "code",
   "execution_count": 2,
   "id": "7537cff5",
   "metadata": {},
   "outputs": [],
   "source": [
    "# Loading the data\n",
    "\n",
    "# Loading the training data\n",
    "X_train = pd.read_csv('training_set_features.csv')\n",
    "y_train = pd.read_csv('training_set_labels.csv')\n",
    "\n",
    "# loading the test data\n",
    "X_test = pd.read_csv('test_set_features.csv')"
   ]
  },
  {
   "cell_type": "markdown",
   "id": "f2b6ac4f",
   "metadata": {},
   "source": [
    "### DATA CLEANING"
   ]
  },
  {
   "cell_type": "code",
   "execution_count": 3,
   "id": "539637ec",
   "metadata": {},
   "outputs": [
    {
     "data": {
      "text/plain": [
       "(6437, 36)"
      ]
     },
     "execution_count": 3,
     "metadata": {},
     "output_type": "execute_result"
    }
   ],
   "source": [
    "# Checking number of missing values in each column\n",
    "X_train.isna().sum().sort_values(ascending=False)\n",
    "\n",
    "# Dropping all rows with missing values\n",
    "X_train = X_train.dropna()\n",
    "X_test = X_test.dropna()\n",
    "\n",
    "# Matching rows with the y_train and X_test\n",
    "y_train = y_train.loc[X_train.index]\n",
    "X_test = X_test.loc[X_test.index]\n",
    "\n",
    "# Checking if there are any missing values remaining\n",
    "X_train.shape"
   ]
  },
  {
   "cell_type": "markdown",
   "id": "bfbd02d0",
   "metadata": {},
   "source": [
    "Here i dropped all rows with missing values so that i may deal with a clean dataset to correctly predict the targets'"
   ]
  },
  {
   "cell_type": "code",
   "execution_count": 4,
   "id": "87bff48e",
   "metadata": {},
   "outputs": [
    {
     "data": {
      "text/plain": [
       "Index(['respondent_id', 'h1n1_concern', 'h1n1_knowledge',\n",
       "       'behavioral_antiviral_meds', 'behavioral_avoidance',\n",
       "       'behavioral_face_mask', 'behavioral_wash_hands',\n",
       "       'behavioral_large_gatherings', 'behavioral_outside_home',\n",
       "       'behavioral_touch_face', 'doctor_recc_h1n1', 'doctor_recc_seasonal',\n",
       "       'chronic_med_condition', 'child_under_6_months', 'health_worker',\n",
       "       'health_insurance', 'opinion_h1n1_vacc_effective', 'opinion_h1n1_risk',\n",
       "       'opinion_h1n1_sick_from_vacc', 'opinion_seas_vacc_effective',\n",
       "       'opinion_seas_risk', 'opinion_seas_sick_from_vacc', 'age_group',\n",
       "       'education', 'race', 'sex', 'income_poverty', 'marital_status',\n",
       "       'rent_or_own', 'employment_status', 'hhs_geo_region', 'census_msa',\n",
       "       'household_adults', 'household_children', 'employment_industry',\n",
       "       'employment_occupation'],\n",
       "      dtype='object')"
      ]
     },
     "execution_count": 4,
     "metadata": {},
     "output_type": "execute_result"
    }
   ],
   "source": [
    "X_train.columns"
   ]
  },
  {
   "cell_type": "code",
   "execution_count": 5,
   "id": "4933bf01",
   "metadata": {},
   "outputs": [
    {
     "data": {
      "text/plain": [
       "Index(['respondent_id', 'h1n1_vaccine', 'seasonal_vaccine'], dtype='object')"
      ]
     },
     "execution_count": 5,
     "metadata": {},
     "output_type": "execute_result"
    }
   ],
   "source": [
    "y_train.columns"
   ]
  },
  {
   "cell_type": "markdown",
   "id": "26193564",
   "metadata": {},
   "source": [
    "### MODELLING AND TRAINING FOR THE H1N1 VACCINE"
   ]
  },
  {
   "cell_type": "code",
   "execution_count": 6,
   "id": "ab0a3b85",
   "metadata": {},
   "outputs": [],
   "source": [
    "merged = X_train.merge(y_train, on='respondent_id')\n",
    "\n",
    "X = merged.drop('h1n1_vaccine', axis=1)\n",
    "y = merged['h1n1_vaccine']"
   ]
  },
  {
   "cell_type": "code",
   "execution_count": 7,
   "id": "fef7feee",
   "metadata": {},
   "outputs": [],
   "source": [
    "# Initaiting the train test split\n",
    "X_train, X_test, y_train, y_test = train_test_split(X, y, test_size=0.2, random_state=42)\n",
    "\n",
    "#Identifying categorical columns\n",
    "cat_cols = X.select_dtypes(include=['object', 'category']).columns.tolist()\n",
    "\n",
    "# Creating a preprocessor and pipeline\n",
    "preprocessor = ColumnTransformer(\n",
    "    transformers=[\n",
    "        ('cat', OneHotEncoder(handle_unknown='ignore'), cat_cols)\n",
    "    ],\n",
    "    remainder='passthrough'\n",
    ")\n",
    "# Defining the pipeline\n",
    "pipeline = Pipeline(steps=[\n",
    "    ('preprocessor', preprocessor),\n",
    "    ('classifier', LogisticRegression(max_iter=1000))\n",
    "])\n",
    "\n",
    "# Fit the pipeline only on training data\n",
    "pipeline.fit(X_train, y_train)\n",
    "\n",
    "# Evaluate on test data\n",
    "y_pred = pipeline.predict(X_test)"
   ]
  },
  {
   "cell_type": "code",
   "execution_count": 8,
   "id": "7ee68e29",
   "metadata": {},
   "outputs": [
    {
     "data": {
      "text/plain": [
       "array([0, 0, 0, ..., 1, 0, 1], dtype=int64)"
      ]
     },
     "execution_count": 8,
     "metadata": {},
     "output_type": "execute_result"
    }
   ],
   "source": [
    "y_pred"
   ]
  },
  {
   "cell_type": "code",
   "execution_count": 9,
   "id": "50e6b8a3",
   "metadata": {},
   "outputs": [
    {
     "name": "stdout",
     "output_type": "stream",
     "text": [
      "Accuracy: 0.8494\n"
     ]
    }
   ],
   "source": [
    "# Checking for the accuracy score of the data\n",
    "accuracy = accuracy_score(y_test, y_pred)\n",
    "print(f\"Accuracy: {accuracy:.4f}\")"
   ]
  },
  {
   "cell_type": "markdown",
   "id": "b1b440d6",
   "metadata": {},
   "source": [
    "### FINDINGS\n",
    "- The model achieved an accuracy of approximately 84.94%. This high level of accuracy reflects strong overall performance and suggests that the model is effective at distinguishing between vaccinated and unvaccinated individuals.-\n",
    "- \n"
   ]
  },
  {
   "cell_type": "code",
   "execution_count": 10,
   "id": "7f431e9d",
   "metadata": {},
   "outputs": [
    {
     "data": {
      "text/plain": [
       "<sklearn.metrics._plot.confusion_matrix.ConfusionMatrixDisplay at 0x2293fbac100>"
      ]
     },
     "execution_count": 10,
     "metadata": {},
     "output_type": "execute_result"
    },
    {
     "data": {
      "image/png": "[encoded data removed]",
      "text/plain": [
       "<Figure size 432x288 with 2 Axes>"
      ]
     },
     "metadata": {
      "needs_background": "light"
     },
     "output_type": "display_data"
    }
   ],
   "source": [
    "# Confusion matrix\n",
    "cm = confusion_matrix(y_test, y_pred)\n",
    "disp = ConfusionMatrixDisplay(confusion_matrix=cm)\n",
    "disp.plot()"
   ]
  },
  {
   "cell_type": "markdown",
   "id": "239725c3",
   "metadata": {},
   "source": [
    "### FINDINGS\n",
    "- The confusion matrix for the model shows high values in the true negative (TN) and true positive (TP) cells, alongside relatively low counts for false positives (FP) and false negatives (FN).\n",
    "- This pattern indicates that the model is performing well in distinguishing between the two classes. Specifically, it is correctly identifying a large number of both vaccinated and unvaccinated individuals, while making relatively few mistakes in either direction\n",
    "- The low number of false positives suggests the model rarely misclassifies unvaccinated individuals as vaccinated, and the low number of false negatives means it is also effective at correctly detecting those who did receive the vaccine.\n",
    "- Overall, the distribution of values in the confusion matrix reflects a balanced and reliable classifier with strong predictive capability for both classes."
   ]
  },
  {
   "cell_type": "code",
   "execution_count": 11,
   "id": "2c9ef23c",
   "metadata": {},
   "outputs": [
    {
     "name": "stdout",
     "output_type": "stream",
     "text": [
      "              precision    recall  f1-score   support\n",
      "\n",
      "           0       0.88      0.91      0.90       911\n",
      "           1       0.77      0.70      0.73       377\n",
      "\n",
      "    accuracy                           0.85      1288\n",
      "   macro avg       0.82      0.80      0.81      1288\n",
      "weighted avg       0.85      0.85      0.85      1288\n",
      "\n"
     ]
    }
   ],
   "source": [
    "# Classification report\n",
    "report = classification_report(y_test, y_pred)\n",
    "print(report)"
   ]
  },
  {
   "cell_type": "markdown",
   "id": "b1bd16ef",
   "metadata": {},
   "source": [
    "### FINDINGS\n",
    "- The model predicts effectively those who did not recieve the vaccine with a high precision of 88% and a recall of 91%.The model therefore is highly reliable in predicting non-vaccinated individuals.\n",
    "- When it comes to predicting those who did actually recieve the vaccine, the model is less effective with lower precision of 77% and and a recall of 70%"
   ]
  },
  {
   "cell_type": "code",
   "execution_count": 12,
   "id": "fcb20610",
   "metadata": {},
   "outputs": [
    {
     "data": {
      "text/plain": [
       "array([0.4334611 , 0.03994065, 0.47128699, ..., 0.92168414, 0.01477889,\n",
       "       0.52497134])"
      ]
     },
     "execution_count": 12,
     "metadata": {},
     "output_type": "execute_result"
    }
   ],
   "source": [
    "# Checking prpbability of predicting one took the h1n1 vaccine\n",
    "y_prob = pipeline.predict_proba(X_test)[:, 1]\n",
    "y_prob"
   ]
  },
  {
   "cell_type": "code",
   "execution_count": 13,
   "id": "3b6a6e6f",
   "metadata": {},
   "outputs": [
    {
     "name": "stdout",
     "output_type": "stream",
     "text": [
      "AUC Score: 0.8944\n"
     ]
    },
    {
     "data": {
      "image/png": "[encoded data removed]",
      "text/plain": [
       "<Figure size 432x288 with 1 Axes>"
      ]
     },
     "metadata": {
      "needs_background": "light"
     },
     "output_type": "display_data"
    }
   ],
   "source": [
    "# Get predicted probabilities one took the h1n1 vaccine\n",
    "y_prob = pipeline.predict_proba(X_test)[:, 1]\n",
    "\n",
    "# Calculate AUC\n",
    "auc = roc_auc_score(y_test, y_prob)\n",
    "print(f\"AUC Score: {auc:.4f}\")\n",
    "\n",
    "# Plot ROC Curve\n",
    "fpr, tpr, _ = roc_curve(y_test, y_prob)\n",
    "plt.plot(fpr, tpr, label=f\"AUC = {auc:.2f}\")\n",
    "plt.plot([0, 1], [0, 1], linestyle='--', color='gray')\n",
    "plt.xlabel('False Positive Rate')\n",
    "plt.ylabel('True Positive Rate')\n",
    "plt.title('ROC Curve')\n",
    "plt.legend()\n",
    "plt.grid(True)\n",
    "plt.show()"
   ]
  },
  {
   "cell_type": "markdown",
   "id": "5955ae0b",
   "metadata": {},
   "source": [
    "### FINDINGS\n",
    "From the AUC score of 0.8944, we can say that our model is doing well in distinguishing between the two classes of h1n1 in predicting wheather one was vacinated or not vaccinated"
   ]
  },
  {
   "cell_type": "markdown",
   "id": "f61cbe8b",
   "metadata": {},
   "source": [
    "### HANDLING CLASS IMBALANCE IN THE LOGISTIC REGRESSION MODEL"
   ]
  },
  {
   "cell_type": "code",
   "execution_count": 14,
   "id": "097d2698",
   "metadata": {},
   "outputs": [
    {
     "name": "stdout",
     "output_type": "stream",
     "text": [
      "Accuracy: 0.8361801242236024\n"
     ]
    }
   ],
   "source": [
    "# Using SMOTE to handle imbalance in the logistic regression\n",
    "pipeline = ImbPipeline(steps=[\n",
    "    ('preprocessor', preprocessor),\n",
    "    ('smote', SMOTE(random_state=42)),\n",
    "    ('classifier', LogisticRegression(max_iter=1000))\n",
    "])\n",
    "\n",
    "# Fitting model to the training data\n",
    "pipeline.fit(X_train, y_train)\n",
    "\n",
    "# Evaluate on test data\n",
    "y_pred = pipeline.predict(X_test)\n",
    "\n",
    "# Checking for the acuracy\n",
    "print(\"Accuracy:\", accuracy_score(y_test, y_pred))"
   ]
  },
  {
   "cell_type": "markdown",
   "id": "8fc78fa7",
   "metadata": {},
   "source": [
    "### FINDINGS\n",
    "After applying SMOTE (Synthetic Minority Over-sampling Technique) to address class imbalance, we observed a drop in overall accuracy from about 85% to 81%. \n",
    "\n",
    "This is because before SMOTE the model was biased toward predicting the majority class, resulting in high accuracy but poor recall for the minority class (e.g., identifying individuals who took the vaccine).\n",
    "\n",
    "With SMOTE, the training dataset was balanced, allowing the model to better learn patterns from the minority class"
   ]
  },
  {
   "cell_type": "code",
   "execution_count": 15,
   "id": "95a73612",
   "metadata": {},
   "outputs": [
    {
     "data": {
      "text/plain": [
       "<sklearn.metrics._plot.confusion_matrix.ConfusionMatrixDisplay at 0x2294c04bf70>"
      ]
     },
     "execution_count": 15,
     "metadata": {},
     "output_type": "execute_result"
    },
    {
     "data": {
      "image/png": "[encoded data removed]",
      "text/plain": [
       "<Figure size 432x288 with 2 Axes>"
      ]
     },
     "metadata": {
      "needs_background": "light"
     },
     "output_type": "display_data"
    }
   ],
   "source": [
    "# Confusion matrix for the corrected class imbalance\n",
    "cm = confusion_matrix(y_test, y_pred)\n",
    "disp = ConfusionMatrixDisplay(confusion_matrix=cm)\n",
    "disp.plot()"
   ]
  },
  {
   "cell_type": "markdown",
   "id": "0f4849ce",
   "metadata": {},
   "source": [
    "### FINDINGS\n",
    "- The confusion matrix for the model shows high values in the true negative (TN) and true positive (TP) cells, alongside relatively low counts for false positives (FP) and false negatives (FN).\n",
    "- This pattern indicates that the model is performing well in distinguishing between the two classes. Specifically, it is correctly identifying a large number of both vaccinated and unvaccinated individuals, while making relatively few mistakes in either direction\n",
    "- The low number of false positives suggests the model rarely misclassifies unvaccinated individuals as vaccinated, and the low number of false negatives means it is also effective at correctly detecting those who did receive the vaccine."
   ]
  },
  {
   "cell_type": "code",
   "execution_count": 16,
   "id": "251a1cad",
   "metadata": {},
   "outputs": [
    {
     "name": "stdout",
     "output_type": "stream",
     "text": [
      "              precision    recall  f1-score   support\n",
      "\n",
      "           0       0.92      0.84      0.88       911\n",
      "           1       0.68      0.84      0.75       377\n",
      "\n",
      "    accuracy                           0.84      1288\n",
      "   macro avg       0.80      0.84      0.81      1288\n",
      "weighted avg       0.85      0.84      0.84      1288\n",
      "\n"
     ]
    }
   ],
   "source": [
    "# Classification report\n",
    "report = classification_report(y_test, y_pred)\n",
    "print(report)"
   ]
  },
  {
   "cell_type": "markdown",
   "id": "58d26b78",
   "metadata": {},
   "source": [
    "### FINDINGS\n",
    "- For the unvaccinated class (0), the model achieved a precision of 0.84 and a recall of 0.81, resulting in an F1-score of 0.83. This shows the model is highly effective at correctly identifying unvaccinated individuals while keeping false positives low.\n",
    "\n",
    "- For the vaccinated class (1), the model achieved a precision of 0.77 and a recall of 0.80, with an F1-score of 0.79. This reflects strong performance in detecting those who received the vaccine, while maintaining a reasonable rate of false positives."
   ]
  },
  {
   "cell_type": "code",
   "execution_count": 17,
   "id": "20adf465",
   "metadata": {},
   "outputs": [
    {
     "data": {
      "text/plain": [
       "array([0.55428035, 0.03689326, 0.63168551, ..., 0.99090943, 0.02157672,\n",
       "       0.80552893])"
      ]
     },
     "execution_count": 17,
     "metadata": {},
     "output_type": "execute_result"
    }
   ],
   "source": [
    "# Checking prpbability of predicting one took the h1n1 vaccine\n",
    "y_prob = pipeline.predict_proba(X_test)[:, 1]\n",
    "y_prob"
   ]
  },
  {
   "cell_type": "code",
   "execution_count": 18,
   "id": "75e59371",
   "metadata": {},
   "outputs": [
    {
     "name": "stdout",
     "output_type": "stream",
     "text": [
      "AUC Score: 0.9011\n"
     ]
    },
    {
     "data": {
      "image/png": "[encoded data removed]",
      "text/plain": [
       "<Figure size 432x288 with 1 Axes>"
      ]
     },
     "metadata": {
      "needs_background": "light"
     },
     "output_type": "display_data"
    }
   ],
   "source": [
    "# Get predicted probabilities one took the h1n1 vaccine\n",
    "y_prob = pipeline.predict_proba(X_test)[:, 1]\n",
    "\n",
    "# Calculate AUC\n",
    "auc = roc_auc_score(y_test, y_prob)\n",
    "print(f\"AUC Score: {auc:.4f}\")\n",
    "\n",
    "# Plot ROC Curve\n",
    "fpr, tpr, _ = roc_curve(y_test, y_prob)\n",
    "plt.plot(fpr, tpr, label=f\"AUC = {auc:.2f}\")\n",
    "plt.plot([0, 1], [0, 1], linestyle='--', color='gray')\n",
    "plt.xlabel('False Positive Rate')\n",
    "plt.ylabel('True Positive Rate')\n",
    "plt.title('ROC Curve')\n",
    "plt.legend()\n",
    "plt.grid(True)\n",
    "plt.show()"
   ]
  },
  {
   "cell_type": "markdown",
   "id": "498dcd6e",
   "metadata": {},
   "source": [
    "### FINDINGS\n",
    "- The model although with a slightly lower AUC score of o.8861 from 0.8944, still has high recall and f1 scores indicating that thw model still captures most true positives"
   ]
  },
  {
   "cell_type": "markdown",
   "id": "6bfe86b4",
   "metadata": {},
   "source": [
    "### MODELLING AND TAINNING OF THE SEASONAL VACCINES"
   ]
  },
  {
   "cell_type": "code",
   "execution_count": 19,
   "id": "899d219f",
   "metadata": {},
   "outputs": [],
   "source": [
    "#merged = X_train.merge(y_train, on='respondent_id')\n",
    "\n",
    "X = merged.drop('seasonal_vaccine', axis=1)\n",
    "y = merged['seasonal_vaccine']"
   ]
  },
  {
   "cell_type": "code",
   "execution_count": 20,
   "id": "ba44140f",
   "metadata": {},
   "outputs": [
    {
     "name": "stdout",
     "output_type": "stream",
     "text": [
      "Accuracy: 0.7437888198757764\n"
     ]
    }
   ],
   "source": [
    "# Initiating the train-test split\n",
    "X_train, X_test, y_train, y_test = train_test_split(\n",
    "    X, y, test_size=0.2, random_state=42)\n",
    "\n",
    "# Identifying categorical columns\n",
    "cat_cols = X.select_dtypes(include=['object', 'category']).columns.tolist()\n",
    "\n",
    "# Creating a preprocessor\n",
    "preprocessor = ColumnTransformer(\n",
    "    transformers=[\n",
    "        ('cat', OneHotEncoder(handle_unknown='ignore'), cat_cols)\n",
    "    ],\n",
    "    remainder='passthrough'\n",
    ")\n",
    "\n",
    "# Defining the pipeline\n",
    "pipeline = Pipeline(steps=[\n",
    "    ('preprocessor', preprocessor),\n",
    "    ('classifier', DecisionTreeClassifier()) \n",
    "])\n",
    "\n",
    "# Fit the pipeline only on training data\n",
    "pipeline.fit(X_train, y_train)\n",
    "\n",
    "# Evaluate on test data\n",
    "y_pred = pipeline.predict(X_test)\n",
    "\n",
    "# Checking for the acuracy\n",
    "print(\"Accuracy:\", accuracy_score(y_test, y_pred))"
   ]
  },
  {
   "cell_type": "markdown",
   "id": "080523c4",
   "metadata": {},
   "source": [
    "### FINDINGS\n",
    "- The model achieved an accuracy of approximately 75%, meaning it correctly predicted the vaccination status of three out of every four individuals. \n",
    "- While this is a reasonable performance, accuracy alone does not fully capture the model’s ability to distinguish between vaccinated and unvaccinated individuals. \n",
    "- Therefore, additional metrics such as precision, recall, and F1-score were also considered to provide a more comprehensive evaluation."
   ]
  },
  {
   "cell_type": "code",
   "execution_count": 21,
   "id": "c7a844ed",
   "metadata": {},
   "outputs": [
    {
     "data": {
      "image/png": "[encoded data removed]",
      "text/plain": [
       "<Figure size 576x432 with 2 Axes>"
      ]
     },
     "metadata": {
      "needs_background": "light"
     },
     "output_type": "display_data"
    }
   ],
   "source": [
    "# Confusion matrix\n",
    "cm = confusion_matrix(y_test, y_pred)\n",
    "plt.figure(figsize=(8,6))\n",
    "sns.heatmap(cm, annot=True, fmt='d', cmap='Blues')\n",
    "plt.xlabel('Predicted')\n",
    "plt.ylabel('Actual')\n",
    "plt.title('Confusion Matrix')\n",
    "plt.show()"
   ]
  },
  {
   "cell_type": "markdown",
   "id": "5d8de115",
   "metadata": {},
   "source": [
    "### FINDINGS\n",
    "- The confusion matrix for the model shows high values in the true negative (TN) and true positive (TP) cells, alongside relatively low counts for false positives (FP) and false negatives (FN).\n",
    "- This pattern indicates that the model is performing well in distinguishing between the two classes. Specifically, it is correctly identifying a large number of both vaccinated and unvaccinated individuals, while making relatively few mistakes in either direction\n",
    "- The low number of false positives suggests the model rarely misclassifies unvaccinated individuals as vaccinated, and the low number of false negatives means it is also effective at correctly detecting those who did receive the vaccine.\n",
    "- Overall, the distribution of values in the confusion matrix reflects a balanced and reliable classifier with strong predictive capability for both classes."
   ]
  },
  {
   "cell_type": "code",
   "execution_count": 22,
   "id": "bdfe7b01",
   "metadata": {},
   "outputs": [
    {
     "name": "stdout",
     "output_type": "stream",
     "text": [
      "Classification Report:\n",
      "              precision    recall  f1-score   support\n",
      "\n",
      "           0       0.77      0.76      0.77       716\n",
      "           1       0.71      0.72      0.71       572\n",
      "\n",
      "    accuracy                           0.74      1288\n",
      "   macro avg       0.74      0.74      0.74      1288\n",
      "weighted avg       0.74      0.74      0.74      1288\n",
      "\n"
     ]
    }
   ],
   "source": [
    "# Classification repoer\n",
    "print(\"Classification Report:\")\n",
    "print(classification_report(y_test, y_pred))\n"
   ]
  },
  {
   "cell_type": "markdown",
   "id": "21ae258f",
   "metadata": {},
   "source": [
    "### FINDINGS\n",
    "- The decision tree model achieved an overall accuracy of 75%, with relatively balanced performance across both vaccinated and non-vaccinated individuals. \n",
    "- It showed a recall of 0.73 for vaccinated individuals, slightly outperforming the logistic regression model in identifying those who received the vaccine. However, it comes at the cost of a reduced overall accuracy compared to logistic regression.\n",
    "- While this model offers more interpretability and slightly better sensitivity for the vaccinated group, the overall trade-off may or may not be acceptable depending on the specific objective. \n",
    "- If identifying vaccinated individuals is a higher priority than overall accuracy, the decision tree may be preferable. Otherwise, the logistic regression model remains more robust overall."
   ]
  },
  {
   "cell_type": "code",
   "execution_count": 24,
   "id": "361a688e",
   "metadata": {},
   "outputs": [
    {
     "name": "stdout",
     "output_type": "stream",
     "text": [
      "Cross-validation accuracy scores: [0.49378882 0.72437888 0.73504274 0.72727273 0.58974359]\n",
      "Mean CV accuracy: 0.6540453507844812\n"
     ]
    }
   ],
   "source": [
    "# Cross_val_score\n",
    "scores = cross_val_score(pipeline, X, y, cv=5, scoring='accuracy')\n",
    "print(\"Cross-validation accuracy scores:\", scores)\n",
    "print(\"Mean CV accuracy:\", scores.mean())"
   ]
  },
  {
   "cell_type": "markdown",
   "id": "c3b3a453",
   "metadata": {},
   "source": [
    "### FINDINGS\n",
    "- The 5-fold cross-validation yielded a mean accuracy of approximately 65.5%, but with noticeable variability across folds\n",
    "- This variability suggests that the model may not consistently perform well on unseen data."
   ]
  },
  {
   "cell_type": "markdown",
   "id": "4b2384be",
   "metadata": {},
   "source": [
    "### HANDLING CLASS IMBALANCE iIN SEASONAL VACCINES"
   ]
  },
  {
   "cell_type": "markdown",
   "id": "34e38b1a",
   "metadata": {},
   "source": [
    "### HYPER-PARAMETER TUNING THE MODEL USING THE GrdSearchCV"
   ]
  },
  {
   "cell_type": "code",
   "execution_count": 25,
   "id": "7c88f357",
   "metadata": {},
   "outputs": [
    {
     "name": "stdout",
     "output_type": "stream",
     "text": [
      "              precision    recall  f1-score   support\n",
      "\n",
      "           0       0.81      0.85      0.83       716\n",
      "           1       0.80      0.75      0.78       572\n",
      "\n",
      "    accuracy                           0.81      1288\n",
      "   macro avg       0.81      0.80      0.80      1288\n",
      "weighted avg       0.81      0.81      0.81      1288\n",
      "\n"
     ]
    }
   ],
   "source": [
    "# Identify categorical columns\n",
    "categorical_cols = X_train.select_dtypes(include=['object', 'category']).columns\n",
    "\n",
    "# One-hot encoder\n",
    "preprocessor = ColumnTransformer(\n",
    "    transformers=[('cat', OneHotEncoder(handle_unknown='ignore'), categorical_cols)],\n",
    "    remainder='passthrough'  # Leave numeric columns as-is\n",
    ")\n",
    "\n",
    "# Decision Tree pipeline\n",
    "pipeline = Pipeline([\n",
    "    ('preprocessing', preprocessor),\n",
    "    ('classifier', DecisionTreeClassifier(random_state=42))\n",
    "])\n",
    "\n",
    "# Grid of hyperparameters\n",
    "param_grid = {\n",
    "    'classifier__max_depth': [3, 5, 10, None],\n",
    "    'classifier__min_samples_split': [2, 5, 10],\n",
    "    'classifier__min_samples_leaf': [1, 2, 5],\n",
    "    'classifier__class_weight': [None, 'balanced'],\n",
    "    'classifier__criterion': ['gini', 'entropy']\n",
    "}\n",
    "\n",
    "# GridSearchCV using pipeline\n",
    "grid = GridSearchCV(pipeline, param_grid, scoring='f1', cv=5, n_jobs=-1)\n",
    "grid.fit(X_train, y_train)\n",
    "\n",
    "# Finding the best model\n",
    "best_model = grid.best_estimator_\n",
    "y_pred = best_model.predict(X_test)\n",
    "print(classification_report(y_test, y_pred))"
   ]
  },
  {
   "cell_type": "markdown",
   "id": "105b95b7",
   "metadata": {},
   "source": [
    "### FINAL CONCLUSIONS ###\n",
    "In summary, the models developed for predicting vaccination status demonstrated solid overall performance.\n",
    "1. The logistic regression model achieved an accuracy of approximately 84.94%, while the decision tree model attained an accuracy of 75%. The confusion matrices for both models showed high counts of true positives and true negatives, with relatively low false positives and false negatives, indicating that both classifiers are reliably distinguishing between vaccinated and unvaccinated individuals\n",
    "2. Among the two, logistic regression offered better overall accuracy and stability, whereas the decision tree provided slightly better recall for the vaccinated class, making it more suitable if identifying vaccinated individuals is a priority. Cross-validation further supported the robustness of the logistic regression model, though some variability in performance was observed."
   ]
  }
 ],
 "metadata": {
  "kernelspec": {
   "display_name": "learn-env",
   "language": "python",
   "name": "python3"
  },
  "language_info": {
   "codemirror_mode": {
    "name": "ipython",
    "version": 3
   },
   "file_extension": ".py",
   "mimetype": "text/x-python",
   "name": "python",
   "nbconvert_exporter": "python",
   "pygments_lexer": "ipython3",
   "version": "3.8.5"
  }
 },
 "nbformat": 4,
 "nbformat_minor": 5
}
